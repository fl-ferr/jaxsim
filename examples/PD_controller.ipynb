{
 "cells": [
  {
   "cell_type": "markdown",
   "metadata": {},
   "source": [
    "# `JAXsim` Showcase: PD Controller\n",
    "\n",
    "<a target=\"_blank\" href=\"https://colab.research.google.com/github/flferretti/jaxsim/blob/example/notebook/examples/PD_controller.ipynb\">\n",
    "  <img src=\"https://colab.research.google.com/assets/colab-badge.svg\" alt=\"Open In Colab\"/>\n",
    "</a>\n",
    "\n",
    "First, we install the necessary packages and import them."
   ]
  },
  {
   "cell_type": "code",
   "execution_count": null,
   "metadata": {},
   "outputs": [],
   "source": [
    "from IPython.display import clear_output, HTML, display\n",
    "import sys\n",
    "\n",
    "# Install JAX and Gazebo\n",
    "!{sys.executable} -m pip install -U -q \"jax[cuda12_pip]\" -f https://storage.googleapis.com/jax-releases/jax_cuda_releases.html\n",
    "!{sys.executable} -m pip install -U -q jaxsim\n",
    "!{sys.executable} -m pip install -q git+https://github.com/ami-iit/meshcat-viz-python\n",
    "!apt -qq update && apt install -qq --no-install-recommends gazebo\n",
    "clear_output()\n",
    "\n",
    "import jax\n",
    "import jax.numpy as jnp\n",
    "from jaxsim import logging\n",
    "\n",
    "logging.set_logging_level(logging.LoggingLevel.INFO)\n",
    "logging.info(f\"Running on {jax.devices()}\")"
   ]
  },
  {
   "cell_type": "markdown",
   "metadata": {},
   "source": [
    "We will use a simple cartpole model for this example. The cartpole model is a 2D model with a cart that can move horizontally and a pole that can rotate around the cart. The state of the cartpole is given by the position of the cart, the angle of the pole, the velocity of the cart, and the angular velocity of the pole. The control input is the horizontal force applied to the cart."
   ]
  },
  {
   "cell_type": "code",
   "execution_count": null,
   "metadata": {},
   "outputs": [],
   "source": [
    "import requests\n",
    "\n",
    "url = \"https://raw.githubusercontent.com/flferretti/jaxsim/example/notebook/examples/assets/cartpole.urdf\"\n",
    "\n",
    "response = requests.get(url)\n",
    "if response.status_code == 200:\n",
    "    model_urdf_path = response.text\n",
    "else:\n",
    "    logging.error(\"Failed to fetch data\")"
   ]
  },
  {
   "cell_type": "markdown",
   "metadata": {},
   "source": [
    "JAXsim offers a simple high-level API in order to extract quantities needed in most robotic applications. "
   ]
  },
  {
   "cell_type": "code",
   "execution_count": null,
   "metadata": {},
   "outputs": [],
   "source": [
    "from jaxsim.high_level.model import Model\n",
    "\n",
    "model = Model.build_from_model_description(\n",
    "    model_description=model_urdf_path, is_urdf=True\n",
    ")"
   ]
  },
  {
   "cell_type": "markdown",
   "metadata": {},
   "source": [
    "Let's reset the cartpole to a random state."
   ]
  },
  {
   "cell_type": "code",
   "execution_count": null,
   "metadata": {},
   "outputs": [],
   "source": [
    "random_positions = jax.random.uniform(\n",
    "    minval=-1.0, maxval=1.0, shape=(model.dofs(),), key=jax.random.PRNGKey(0)\n",
    ")\n",
    "\n",
    "model.reset_joint_positions(positions=random_positions)"
   ]
  },
  {
   "cell_type": "markdown",
   "metadata": {},
   "source": [
    "The visualization is done using the [`meshcat-viz-python`](https://github.com/ami-iit/meshcat-viz-python) package. Let's import it and create a `Visualizer` object."
   ]
  },
  {
   "cell_type": "code",
   "execution_count": null,
   "metadata": {},
   "outputs": [],
   "source": [
    "from meshcat_viz.world import MeshcatWorld\n",
    "\n",
    "world = MeshcatWorld()\n",
    "\n",
    "world.insert_model(\n",
    "    model_description=model_urdf_path, model_name=\"Cartpole\", is_urdf=True\n",
    ")\n",
    "render = lambda: display(\n",
    "    HTML(\n",
    "        \"\"\"\n",
    "        <div style=\"height: 400px; width: 100%; overflow-x: auto; overflow-y: hidden; resize: both\">\n",
    "        <iframe src=\"{url}\" style=\"width: 100%; height: 100%; border: none\"></iframe>\n",
    "        </div>\n",
    "        \"\"\".format(\n",
    "            url=world.web_url\n",
    "        )\n",
    "    )\n",
    ")"
   ]
  },
  {
   "cell_type": "markdown",
   "metadata": {},
   "source": [
    "Let's see how the model behaves when not controlled:"
   ]
  },
  {
   "cell_type": "code",
   "execution_count": null,
   "metadata": {},
   "outputs": [],
   "source": [
    "from jaxsim.simulation.ode_integration import IntegratorType\n",
    "\n",
    "render()\n",
    "\n",
    "for _ in range(200):\n",
    "    world.update_model(\n",
    "        model_name=\"Cartpole\",\n",
    "        base_position=model.base_position(),\n",
    "        joint_positions=model.joint_positions(),\n",
    "        joint_names=model.joint_names(),\n",
    "    )\n",
    "    model.integrate(t0=0.0, tf=0.01, integrator_type=IntegratorType.EulerSemiImplicit)"
   ]
  },
  {
   "cell_type": "markdown",
   "metadata": {},
   "source": [
    "Let's now define the PD controller. We will use the following equations:\n",
    "\n",
    "\\begin{align} \\tau &= K_p \\left( q_d - q \\right) + K_d \\left( \\dot{q}_d - \\dot{q} \\right) \\end{align}"
   ]
  },
  {
   "cell_type": "code",
   "execution_count": null,
   "metadata": {},
   "outputs": [],
   "source": [
    "# Define the PD gains\n",
    "KP = 30.0\n",
    "KD = 4.0\n",
    "\n",
    "\n",
    "def pd_controller(\n",
    "    q: jax.Array, q_d: jax.Array, q_dot: jax.Array, q_dot_d: jax.Array\n",
    ") -> jax.Array:\n",
    "    return KP * (q_d - q) + KD * (q_dot_d - q_dot)"
   ]
  },
  {
   "cell_type": "markdown",
   "metadata": {},
   "source": [
    "Now, we can use the `pd_controller` function to compute the torque to apply to the cartpole. Our aim is to stabilize the cartpole in the upright position, so we set the desired position `q_d` to 0 and the desired velocity `q_dot_d` to 0."
   ]
  },
  {
   "cell_type": "code",
   "execution_count": null,
   "metadata": {},
   "outputs": [],
   "source": [
    "render()\n",
    "\n",
    "for _ in range(200):\n",
    "    world.update_model(\n",
    "        model_name=\"Cartpole\",\n",
    "        base_position=model.base_position(),\n",
    "        joint_positions=model.joint_positions(),\n",
    "        joint_names=model.joint_names(),\n",
    "    )\n",
    "    model.set_joint_generalized_force_targets(\n",
    "        forces=pd_controller(\n",
    "            q=model.joint_positions(),\n",
    "            q_d=jnp.array([0.0, 0.0]),\n",
    "            q_dot=model.joint_velocities(),\n",
    "            q_dot_d=jnp.array([0.0, 0.0]),\n",
    "        )\n",
    "    )\n",
    "    model.integrate(t0=0.0, tf=0.01, integrator_type=IntegratorType.EulerSemiImplicit)"
   ]
  }
 ],
 "metadata": {
  "accelerator": "GPU",
  "colab": {
     "gpuClass": "premium",
     "gpuType": "V100",
     "private_outputs": true,
     "provenance": [
       {
         "file_id": "1QsuS7EJhdPEHxxAu9XwozvA7eb4ZnlAb",
         "timestamp": 1701993737024
       }
     ],
     "toc_visible": true
  },
  "kernelspec": {
   "display_name": "Python 3 (ipykernel)",
   "language": "python",
   "name": "python3"
  },
  "language_info": {
   "codemirror_mode": {
    "name": "ipython",
    "version": 3
   },
   "file_extension": ".py",
   "mimetype": "text/x-python",
   "name": "python",
   "nbconvert_exporter": "python",
   "pygments_lexer": "ipython3",
   "version": "3.11.6"
  }
 },
 "nbformat": 4,
 "nbformat_minor": 4
}
